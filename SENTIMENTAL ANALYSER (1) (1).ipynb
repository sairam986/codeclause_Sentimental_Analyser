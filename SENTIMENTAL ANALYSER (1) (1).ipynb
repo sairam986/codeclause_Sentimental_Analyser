{
 "cells": [
  {
   "cell_type": "code",
   "execution_count": 1,
   "id": "ad7d74b4",
   "metadata": {
    "_cell_guid": "b1076dfc-b9ad-4769-8c92-a6c4dae69d19",
    "_uuid": "8f2839f25d086af736a60e9eeb907d3b93b6e0e5",
    "execution": {
     "iopub.execute_input": "2023-02-06T12:14:38.794854Z",
     "iopub.status.busy": "2023-02-06T12:14:38.793970Z",
     "iopub.status.idle": "2023-02-06T12:14:38.813343Z",
     "shell.execute_reply": "2023-02-06T12:14:38.811928Z"
    },
    "papermill": {
     "duration": 0.032529,
     "end_time": "2023-02-06T12:14:38.815533",
     "exception": false,
     "start_time": "2023-02-06T12:14:38.783004",
     "status": "completed"
    },
    "tags": []
   },
   "outputs": [
    {
     "name": "stdout",
     "output_type": "stream",
     "text": [
      "/kaggle/input/sentiment-analysis-dataset/training.1600000.processed.noemoticon.csv\n",
      "/kaggle/input/sentiment-analysis-dataset/train.csv\n",
      "/kaggle/input/sentiment-analysis-dataset/testdata.manual.2009.06.14.csv\n",
      "/kaggle/input/sentiment-analysis-dataset/test.csv\n"
     ]
    }
   ],
   "source": [
    "# This Python 3 environment comes with many helpful analytics libraries installed\n",
    "# It is defined by the kaggle/python Docker image: https://github.com/kaggle/docker-python\n",
    "# For example, here's several helpful packages to load\n",
    "\n",
    "import numpy as np # linear algebra\n",
    "import pandas as pd # data processing, CSV file I/O (e.g. pd.read_csv)\n",
    "\n",
    "# Input data files are available in the read-only \"../input/\" directory\n",
    "# For example, running this (by clicking run or pressing Shift+Enter) will list all files under the input directory\n",
    "\n",
    "import os\n",
    "for dirname, _, filenames in os.walk('/kaggle/input'):\n",
    "    for filename in filenames:\n",
    "        print(os.path.join(dirname, filename))\n",
    "\n",
    "# You can write up to 20GB to the current directory (/kaggle/working/) that gets preserved as output when you create a version using \"Save & Run All\" \n",
    "# You can also write temporary files to /kaggle/temp/, but they won't be saved outside of the current session"
   ]
  },
  {
   "cell_type": "markdown",
   "id": "4a18e9d3",
   "metadata": {
    "papermill": {
     "duration": 0.008041,
     "end_time": "2023-02-06T12:14:38.832029",
     "exception": false,
     "start_time": "2023-02-06T12:14:38.823988",
     "status": "completed"
    },
    "tags": []
   },
   "source": [
    "# Index\n",
    "* Importing Libraries\n",
    "* Reading csv file\n",
    "* Simplify the data\n",
    "* analysis\n",
    "* dropping unnecessary columns\n",
    "* EDA\n",
    "* Word cloud positive data\n",
    "* Word cloud negative data\n",
    "* TFIDF for sentiment analysis\n",
    "* Train Test Split\n",
    "* LogisticRegression\n",
    "* Accuracy Score: 85%"
   ]
  },
  {
   "cell_type": "markdown",
   "id": "f4f95a7a",
   "metadata": {
    "papermill": {
     "duration": 0.008454,
     "end_time": "2023-02-06T12:14:38.848560",
     "exception": false,
     "start_time": "2023-02-06T12:14:38.840106",
     "status": "completed"
    },
    "tags": []
   },
   "source": [
    "# Importing Libraries"
   ]
  },
  {
   "cell_type": "code",
   "execution_count": 2,
   "id": "ba1ea25c",
   "metadata": {
    "execution": {
     "iopub.execute_input": "2023-02-06T12:14:38.867667Z",
     "iopub.status.busy": "2023-02-06T12:14:38.866997Z",
     "iopub.status.idle": "2023-02-06T12:14:40.695035Z",
     "shell.execute_reply": "2023-02-06T12:14:40.693950Z"
    },
    "papermill": {
     "duration": 1.839706,
     "end_time": "2023-02-06T12:14:40.697584",
     "exception": false,
     "start_time": "2023-02-06T12:14:38.857878",
     "status": "completed"
    },
    "tags": []
   },
   "outputs": [],
   "source": [
    "import matplotlib.pyplot as plt\n",
    "import seaborn as sns\n",
    "from string import punctuation\n",
    "from nltk.tokenize import word_tokenize\n",
    "from nltk.stem import LancasterStemmer\n",
    "from string import punctuation\n",
    "from nltk.corpus import stopwords\n",
    "from nltk.tokenize import word_tokenize\n",
    "from nltk.stem import LancasterStemmer\n",
    "from nltk.stem.wordnet import WordNetLemmatizer\n",
    "import re\n",
    "import warnings\n",
    "warnings.filterwarnings('ignore')"
   ]
  },
  {
   "cell_type": "markdown",
   "id": "3d79779f",
   "metadata": {
    "papermill": {
     "duration": 0.007875,
     "end_time": "2023-02-06T12:14:40.713862",
     "exception": false,
     "start_time": "2023-02-06T12:14:40.705987",
     "status": "completed"
    },
    "tags": []
   },
   "source": [
    "# Reading csv file"
   ]
  },
  {
   "cell_type": "code",
   "execution_count": 3,
   "id": "6adc3bce",
   "metadata": {
    "execution": {
     "iopub.execute_input": "2023-02-06T12:14:40.731704Z",
     "iopub.status.busy": "2023-02-06T12:14:40.730861Z",
     "iopub.status.idle": "2023-02-06T12:14:45.028884Z",
     "shell.execute_reply": "2023-02-06T12:14:45.027814Z"
    },
    "papermill": {
     "duration": 4.309779,
     "end_time": "2023-02-06T12:14:45.031653",
     "exception": false,
     "start_time": "2023-02-06T12:14:40.721874",
     "status": "completed"
    },
    "tags": []
   },
   "outputs": [],
   "source": [
    "df = pd.read_csv('/kaggle/input/sentiment-analysis-dataset/training.1600000.processed.noemoticon.csv',delimiter=',', encoding='ISO-8859-1')"
   ]
  },
  {
   "cell_type": "code",
   "execution_count": 4,
   "id": "53bf81be",
   "metadata": {
    "execution": {
     "iopub.execute_input": "2023-02-06T12:14:45.051061Z",
     "iopub.status.busy": "2023-02-06T12:14:45.049489Z",
     "iopub.status.idle": "2023-02-06T12:14:45.070086Z",
     "shell.execute_reply": "2023-02-06T12:14:45.069157Z"
    },
    "papermill": {
     "duration": 0.032172,
     "end_time": "2023-02-06T12:14:45.072291",
     "exception": false,
     "start_time": "2023-02-06T12:14:45.040119",
     "status": "completed"
    },
    "tags": []
   },
   "outputs": [
    {
     "data": {
      "text/html": [
       "<div>\n",
       "<style scoped>\n",
       "    .dataframe tbody tr th:only-of-type {\n",
       "        vertical-align: middle;\n",
       "    }\n",
       "\n",
       "    .dataframe tbody tr th {\n",
       "        vertical-align: top;\n",
       "    }\n",
       "\n",
       "    .dataframe thead th {\n",
       "        text-align: right;\n",
       "    }\n",
       "</style>\n",
       "<table border=\"1\" class=\"dataframe\">\n",
       "  <thead>\n",
       "    <tr style=\"text-align: right;\">\n",
       "      <th></th>\n",
       "      <th>polarity of tweet</th>\n",
       "      <th>id of the tweet</th>\n",
       "      <th>date of the tweet</th>\n",
       "      <th>query</th>\n",
       "      <th>user</th>\n",
       "      <th>text of the tweet</th>\n",
       "    </tr>\n",
       "  </thead>\n",
       "  <tbody>\n",
       "    <tr>\n",
       "      <th>0</th>\n",
       "      <td>0</td>\n",
       "      <td>1467810672</td>\n",
       "      <td>Mon Apr 06 22:19:49 PDT 2009</td>\n",
       "      <td>NO_QUERY</td>\n",
       "      <td>scotthamilton</td>\n",
       "      <td>is upset that he can't update his Facebook by ...</td>\n",
       "    </tr>\n",
       "    <tr>\n",
       "      <th>1</th>\n",
       "      <td>0</td>\n",
       "      <td>1467810917</td>\n",
       "      <td>Mon Apr 06 22:19:53 PDT 2009</td>\n",
       "      <td>NO_QUERY</td>\n",
       "      <td>mattycus</td>\n",
       "      <td>@Kenichan I dived many times for the ball. Man...</td>\n",
       "    </tr>\n",
       "    <tr>\n",
       "      <th>2</th>\n",
       "      <td>0</td>\n",
       "      <td>1467811184</td>\n",
       "      <td>Mon Apr 06 22:19:57 PDT 2009</td>\n",
       "      <td>NO_QUERY</td>\n",
       "      <td>ElleCTF</td>\n",
       "      <td>my whole body feels itchy and like its on fire</td>\n",
       "    </tr>\n",
       "    <tr>\n",
       "      <th>3</th>\n",
       "      <td>0</td>\n",
       "      <td>1467811193</td>\n",
       "      <td>Mon Apr 06 22:19:57 PDT 2009</td>\n",
       "      <td>NO_QUERY</td>\n",
       "      <td>Karoli</td>\n",
       "      <td>@nationwideclass no, it's not behaving at all....</td>\n",
       "    </tr>\n",
       "    <tr>\n",
       "      <th>4</th>\n",
       "      <td>0</td>\n",
       "      <td>1467811372</td>\n",
       "      <td>Mon Apr 06 22:20:00 PDT 2009</td>\n",
       "      <td>NO_QUERY</td>\n",
       "      <td>joy_wolf</td>\n",
       "      <td>@Kwesidei not the whole crew</td>\n",
       "    </tr>\n",
       "  </tbody>\n",
       "</table>\n",
       "</div>"
      ],
      "text/plain": [
       "   polarity of tweet   id of the tweet             date of the tweet  \\\n",
       "0                   0       1467810672  Mon Apr 06 22:19:49 PDT 2009   \n",
       "1                   0       1467810917  Mon Apr 06 22:19:53 PDT 2009   \n",
       "2                   0       1467811184  Mon Apr 06 22:19:57 PDT 2009   \n",
       "3                   0       1467811193  Mon Apr 06 22:19:57 PDT 2009   \n",
       "4                   0       1467811372  Mon Apr 06 22:20:00 PDT 2009   \n",
       "\n",
       "      query           user                                 text of the tweet   \n",
       "0  NO_QUERY  scotthamilton  is upset that he can't update his Facebook by ...  \n",
       "1  NO_QUERY       mattycus  @Kenichan I dived many times for the ball. Man...  \n",
       "2  NO_QUERY        ElleCTF    my whole body feels itchy and like its on fire   \n",
       "3  NO_QUERY         Karoli  @nationwideclass no, it's not behaving at all....  \n",
       "4  NO_QUERY       joy_wolf                      @Kwesidei not the whole crew   "
      ]
     },
     "execution_count": 4,
     "metadata": {},
     "output_type": "execute_result"
    }
   ],
   "source": [
    "df.head()"
   ]
  },
  {
   "cell_type": "code",
   "execution_count": 5,
   "id": "cfa340c3",
   "metadata": {
    "execution": {
     "iopub.execute_input": "2023-02-06T12:14:45.089940Z",
     "iopub.status.busy": "2023-02-06T12:14:45.089665Z",
     "iopub.status.idle": "2023-02-06T12:14:45.266747Z",
     "shell.execute_reply": "2023-02-06T12:14:45.265110Z"
    },
    "papermill": {
     "duration": 0.188658,
     "end_time": "2023-02-06T12:14:45.269237",
     "exception": false,
     "start_time": "2023-02-06T12:14:45.080579",
     "status": "completed"
    },
    "tags": []
   },
   "outputs": [
    {
     "name": "stdout",
     "output_type": "stream",
     "text": [
      "<class 'pandas.core.frame.DataFrame'>\n",
      "RangeIndex: 1048572 entries, 0 to 1048571\n",
      "Data columns (total 6 columns):\n",
      " #   Column              Non-Null Count    Dtype \n",
      "---  ------              --------------    ----- \n",
      " 0   polarity of tweet   1048572 non-null  int64 \n",
      " 1   id of the tweet     1048572 non-null  int64 \n",
      " 2   date of the tweet   1048572 non-null  object\n",
      " 3   query               1048572 non-null  object\n",
      " 4   user                1048572 non-null  object\n",
      " 5   text of the tweet   1048572 non-null  object\n",
      "dtypes: int64(2), object(4)\n",
      "memory usage: 48.0+ MB\n"
     ]
    }
   ],
   "source": [
    "df.info()"
   ]
  },
  {
   "cell_type": "code",
   "execution_count": 6,
   "id": "04dadcce",
   "metadata": {
    "execution": {
     "iopub.execute_input": "2023-02-06T12:14:45.288241Z",
     "iopub.status.busy": "2023-02-06T12:14:45.287914Z",
     "iopub.status.idle": "2023-02-06T12:14:45.448819Z",
     "shell.execute_reply": "2023-02-06T12:14:45.447659Z"
    },
    "papermill": {
     "duration": 0.172935,
     "end_time": "2023-02-06T12:14:45.451502",
     "exception": false,
     "start_time": "2023-02-06T12:14:45.278567",
     "status": "completed"
    },
    "tags": []
   },
   "outputs": [
    {
     "data": {
      "text/plain": [
       "polarity of tweet     0\n",
       "id of the tweet       0\n",
       "date of the tweet     0\n",
       "query                 0\n",
       "user                  0\n",
       "text of the tweet     0\n",
       "dtype: int64"
      ]
     },
     "execution_count": 6,
     "metadata": {},
     "output_type": "execute_result"
    }
   ],
   "source": [
    "df.isnull().sum()"
   ]
  },
  {
   "cell_type": "markdown",
   "id": "f7a85355",
   "metadata": {
    "papermill": {
     "duration": 0.008638,
     "end_time": "2023-02-06T12:14:45.468520",
     "exception": false,
     "start_time": "2023-02-06T12:14:45.459882",
     "status": "completed"
    },
    "tags": []
   },
   "source": [
    "# Simplify the data"
   ]
  },
  {
   "cell_type": "code",
   "execution_count": 7,
   "id": "857c2011",
   "metadata": {
    "execution": {
     "iopub.execute_input": "2023-02-06T12:14:45.486581Z",
     "iopub.status.busy": "2023-02-06T12:14:45.485943Z",
     "iopub.status.idle": "2023-02-06T12:14:45.491265Z",
     "shell.execute_reply": "2023-02-06T12:14:45.490423Z"
    },
    "papermill": {
     "duration": 0.016308,
     "end_time": "2023-02-06T12:14:45.493071",
     "exception": false,
     "start_time": "2023-02-06T12:14:45.476763",
     "status": "completed"
    },
    "tags": []
   },
   "outputs": [],
   "source": [
    "df.columns=['sentiment','id','date','query','username','text']"
   ]
  },
  {
   "cell_type": "code",
   "execution_count": 8,
   "id": "98a921de",
   "metadata": {
    "execution": {
     "iopub.execute_input": "2023-02-06T12:14:45.511128Z",
     "iopub.status.busy": "2023-02-06T12:14:45.510356Z",
     "iopub.status.idle": "2023-02-06T12:14:45.521788Z",
     "shell.execute_reply": "2023-02-06T12:14:45.520758Z"
    },
    "papermill": {
     "duration": 0.0229,
     "end_time": "2023-02-06T12:14:45.524235",
     "exception": false,
     "start_time": "2023-02-06T12:14:45.501335",
     "status": "completed"
    },
    "tags": []
   },
   "outputs": [
    {
     "data": {
      "text/html": [
       "<div>\n",
       "<style scoped>\n",
       "    .dataframe tbody tr th:only-of-type {\n",
       "        vertical-align: middle;\n",
       "    }\n",
       "\n",
       "    .dataframe tbody tr th {\n",
       "        vertical-align: top;\n",
       "    }\n",
       "\n",
       "    .dataframe thead th {\n",
       "        text-align: right;\n",
       "    }\n",
       "</style>\n",
       "<table border=\"1\" class=\"dataframe\">\n",
       "  <thead>\n",
       "    <tr style=\"text-align: right;\">\n",
       "      <th></th>\n",
       "      <th>sentiment</th>\n",
       "      <th>id</th>\n",
       "      <th>date</th>\n",
       "      <th>query</th>\n",
       "      <th>username</th>\n",
       "      <th>text</th>\n",
       "    </tr>\n",
       "  </thead>\n",
       "  <tbody>\n",
       "    <tr>\n",
       "      <th>0</th>\n",
       "      <td>0</td>\n",
       "      <td>1467810672</td>\n",
       "      <td>Mon Apr 06 22:19:49 PDT 2009</td>\n",
       "      <td>NO_QUERY</td>\n",
       "      <td>scotthamilton</td>\n",
       "      <td>is upset that he can't update his Facebook by ...</td>\n",
       "    </tr>\n",
       "    <tr>\n",
       "      <th>1</th>\n",
       "      <td>0</td>\n",
       "      <td>1467810917</td>\n",
       "      <td>Mon Apr 06 22:19:53 PDT 2009</td>\n",
       "      <td>NO_QUERY</td>\n",
       "      <td>mattycus</td>\n",
       "      <td>@Kenichan I dived many times for the ball. Man...</td>\n",
       "    </tr>\n",
       "    <tr>\n",
       "      <th>2</th>\n",
       "      <td>0</td>\n",
       "      <td>1467811184</td>\n",
       "      <td>Mon Apr 06 22:19:57 PDT 2009</td>\n",
       "      <td>NO_QUERY</td>\n",
       "      <td>ElleCTF</td>\n",
       "      <td>my whole body feels itchy and like its on fire</td>\n",
       "    </tr>\n",
       "    <tr>\n",
       "      <th>3</th>\n",
       "      <td>0</td>\n",
       "      <td>1467811193</td>\n",
       "      <td>Mon Apr 06 22:19:57 PDT 2009</td>\n",
       "      <td>NO_QUERY</td>\n",
       "      <td>Karoli</td>\n",
       "      <td>@nationwideclass no, it's not behaving at all....</td>\n",
       "    </tr>\n",
       "    <tr>\n",
       "      <th>4</th>\n",
       "      <td>0</td>\n",
       "      <td>1467811372</td>\n",
       "      <td>Mon Apr 06 22:20:00 PDT 2009</td>\n",
       "      <td>NO_QUERY</td>\n",
       "      <td>joy_wolf</td>\n",
       "      <td>@Kwesidei not the whole crew</td>\n",
       "    </tr>\n",
       "  </tbody>\n",
       "</table>\n",
       "</div>"
      ],
      "text/plain": [
       "   sentiment          id                          date     query  \\\n",
       "0          0  1467810672  Mon Apr 06 22:19:49 PDT 2009  NO_QUERY   \n",
       "1          0  1467810917  Mon Apr 06 22:19:53 PDT 2009  NO_QUERY   \n",
       "2          0  1467811184  Mon Apr 06 22:19:57 PDT 2009  NO_QUERY   \n",
       "3          0  1467811193  Mon Apr 06 22:19:57 PDT 2009  NO_QUERY   \n",
       "4          0  1467811372  Mon Apr 06 22:20:00 PDT 2009  NO_QUERY   \n",
       "\n",
       "        username                                               text  \n",
       "0  scotthamilton  is upset that he can't update his Facebook by ...  \n",
       "1       mattycus  @Kenichan I dived many times for the ball. Man...  \n",
       "2        ElleCTF    my whole body feels itchy and like its on fire   \n",
       "3         Karoli  @nationwideclass no, it's not behaving at all....  \n",
       "4       joy_wolf                      @Kwesidei not the whole crew   "
      ]
     },
     "execution_count": 8,
     "metadata": {},
     "output_type": "execute_result"
    }
   ],
   "source": [
    "df.head()"
   ]
  },
  {
   "cell_type": "code",
   "execution_count": 9,
   "id": "4b05946b",
   "metadata": {
    "execution": {
     "iopub.execute_input": "2023-02-06T12:14:45.542290Z",
     "iopub.status.busy": "2023-02-06T12:14:45.541989Z",
     "iopub.status.idle": "2023-02-06T12:14:45.548775Z",
     "shell.execute_reply": "2023-02-06T12:14:45.547868Z"
    },
    "papermill": {
     "duration": 0.018152,
     "end_time": "2023-02-06T12:14:45.550772",
     "exception": false,
     "start_time": "2023-02-06T12:14:45.532620",
     "status": "completed"
    },
    "tags": []
   },
   "outputs": [
    {
     "data": {
      "text/plain": [
       "(1048572, 6)"
      ]
     },
     "execution_count": 9,
     "metadata": {},
     "output_type": "execute_result"
    }
   ],
   "source": [
    "df.shape"
   ]
  },
  {
   "cell_type": "markdown",
   "id": "0c05f390",
   "metadata": {
    "papermill": {
     "duration": 0.008343,
     "end_time": "2023-02-06T12:14:45.567588",
     "exception": false,
     "start_time": "2023-02-06T12:14:45.559245",
     "status": "completed"
    },
    "tags": []
   },
   "source": [
    "# Analysis"
   ]
  },
  {
   "cell_type": "code",
   "execution_count": 10,
   "id": "22f3366c",
   "metadata": {
    "execution": {
     "iopub.execute_input": "2023-02-06T12:14:45.585839Z",
     "iopub.status.busy": "2023-02-06T12:14:45.585534Z",
     "iopub.status.idle": "2023-02-06T12:14:45.601476Z",
     "shell.execute_reply": "2023-02-06T12:14:45.600424Z"
    },
    "papermill": {
     "duration": 0.027414,
     "end_time": "2023-02-06T12:14:45.603508",
     "exception": false,
     "start_time": "2023-02-06T12:14:45.576094",
     "status": "completed"
    },
    "tags": []
   },
   "outputs": [
    {
     "data": {
      "text/plain": [
       "0    799996\n",
       "4    248576\n",
       "Name: sentiment, dtype: int64"
      ]
     },
     "execution_count": 10,
     "metadata": {},
     "output_type": "execute_result"
    }
   ],
   "source": [
    "df['sentiment'].value_counts()"
   ]
  },
  {
   "cell_type": "code",
   "execution_count": 11,
   "id": "29905380",
   "metadata": {
    "execution": {
     "iopub.execute_input": "2023-02-06T12:14:45.622220Z",
     "iopub.status.busy": "2023-02-06T12:14:45.621878Z",
     "iopub.status.idle": "2023-02-06T12:14:45.627354Z",
     "shell.execute_reply": "2023-02-06T12:14:45.626495Z"
    },
    "papermill": {
     "duration": 0.017176,
     "end_time": "2023-02-06T12:14:45.629384",
     "exception": false,
     "start_time": "2023-02-06T12:14:45.612208",
     "status": "completed"
    },
    "tags": []
   },
   "outputs": [],
   "source": [
    "import seaborn as sns\n",
    "import matplotlib.pyplot as plt"
   ]
  },
  {
   "cell_type": "code",
   "execution_count": 12,
   "id": "25cf7b48",
   "metadata": {
    "execution": {
     "iopub.execute_input": "2023-02-06T12:14:45.647948Z",
     "iopub.status.busy": "2023-02-06T12:14:45.647682Z",
     "iopub.status.idle": "2023-02-06T12:14:50.059493Z",
     "shell.execute_reply": "2023-02-06T12:14:50.058495Z"
    },
    "papermill": {
     "duration": 4.423922,
     "end_time": "2023-02-06T12:14:50.062194",
     "exception": false,
     "start_time": "2023-02-06T12:14:45.638272",
     "status": "completed"
    },
    "tags": []
   },
   "outputs": [
    {
     "data": {
      "text/plain": [
       "<AxesSubplot:xlabel='sentiment', ylabel='Count'>"
      ]
     },
     "execution_count": 12,
     "metadata": {},
     "output_type": "execute_result"
    },
    {
     "data": {
      "image/png": "[encoded data removed]",
      "text/plain": [
       "<Figure size 432x288 with 1 Axes>"
      ]
     },
     "metadata": {
      "needs_background": "light"
     },
     "output_type": "display_data"
    }
   ],
   "source": [
    "sns.histplot(df['sentiment'],kde=True)"
   ]
  },
  {
   "cell_type": "code",
   "execution_count": 13,
   "id": "ae825a16",
   "metadata": {
    "execution": {
     "iopub.execute_input": "2023-02-06T12:14:50.084323Z",
     "iopub.status.busy": "2023-02-06T12:14:50.083971Z",
     "iopub.status.idle": "2023-02-06T12:14:50.338206Z",
     "shell.execute_reply": "2023-02-06T12:14:50.337207Z"
    },
    "papermill": {
     "duration": 0.267564,
     "end_time": "2023-02-06T12:14:50.340271",
     "exception": false,
     "start_time": "2023-02-06T12:14:50.072707",
     "status": "completed"
    },
    "tags": []
   },
   "outputs": [
    {
     "data": {
      "text/plain": [
       "<AxesSubplot:xlabel='sentiment', ylabel='count'>"
      ]
     },
     "execution_count": 13,
     "metadata": {},
     "output_type": "execute_result"
    },
    {
     "data": {
      "image/png": "[encoded data removed]",
      "text/plain": [
       "<Figure size 432x288 with 1 Axes>"
      ]
     },
     "metadata": {
      "needs_background": "light"
     },
     "output_type": "display_data"
    }
   ],
   "source": [
    "sns.countplot(df['sentiment'])"
   ]
  },
  {
   "cell_type": "code",
   "execution_count": 14,
   "id": "54d8164a",
   "metadata": {
    "execution": {
     "iopub.execute_input": "2023-02-06T12:14:50.362000Z",
     "iopub.status.busy": "2023-02-06T12:14:50.360341Z",
     "iopub.status.idle": "2023-02-06T12:14:50.418807Z",
     "shell.execute_reply": "2023-02-06T12:14:50.417767Z"
    },
    "papermill": {
     "duration": 0.070877,
     "end_time": "2023-02-06T12:14:50.421007",
     "exception": false,
     "start_time": "2023-02-06T12:14:50.350130",
     "status": "completed"
    },
    "tags": []
   },
   "outputs": [
    {
     "data": {
      "text/plain": [
       "NO_QUERY    1048572\n",
       "Name: query, dtype: int64"
      ]
     },
     "execution_count": 14,
     "metadata": {},
     "output_type": "execute_result"
    }
   ],
   "source": [
    "df['query'].value_counts()"
   ]
  },
  {
   "cell_type": "markdown",
   "id": "2443dc12",
   "metadata": {
    "papermill": {
     "duration": 0.009198,
     "end_time": "2023-02-06T12:14:50.440003",
     "exception": false,
     "start_time": "2023-02-06T12:14:50.430805",
     "status": "completed"
    },
    "tags": []
   },
   "source": [
    "# dropping unnecessary columns"
   ]
  },
  {
   "cell_type": "code",
   "execution_count": 15,
   "id": "0f6921ca",
   "metadata": {
    "execution": {
     "iopub.execute_input": "2023-02-06T12:14:50.461479Z",
     "iopub.status.busy": "2023-02-06T12:14:50.459944Z",
     "iopub.status.idle": "2023-02-06T12:14:50.517576Z",
     "shell.execute_reply": "2023-02-06T12:14:50.516265Z"
    },
    "papermill": {
     "duration": 0.070115,
     "end_time": "2023-02-06T12:14:50.519691",
     "exception": false,
     "start_time": "2023-02-06T12:14:50.449576",
     "status": "completed"
    },
    "tags": []
   },
   "outputs": [],
   "source": [
    "df=df.drop(columns=['query'])"
   ]
  },
  {
   "cell_type": "code",
   "execution_count": 16,
   "id": "5310a66b",
   "metadata": {
    "execution": {
     "iopub.execute_input": "2023-02-06T12:14:50.540997Z",
     "iopub.status.busy": "2023-02-06T12:14:50.540642Z",
     "iopub.status.idle": "2023-02-06T12:14:50.551777Z",
     "shell.execute_reply": "2023-02-06T12:14:50.550771Z"
    },
    "papermill": {
     "duration": 0.02369,
     "end_time": "2023-02-06T12:14:50.553787",
     "exception": false,
     "start_time": "2023-02-06T12:14:50.530097",
     "status": "completed"
    },
    "tags": []
   },
   "outputs": [
    {
     "data": {
      "text/html": [
       "<div>\n",
       "<style scoped>\n",
       "    .dataframe tbody tr th:only-of-type {\n",
       "        vertical-align: middle;\n",
       "    }\n",
       "\n",
       "    .dataframe tbody tr th {\n",
       "        vertical-align: top;\n",
       "    }\n",
       "\n",
       "    .dataframe thead th {\n",
       "        text-align: right;\n",
       "    }\n",
       "</style>\n",
       "<table border=\"1\" class=\"dataframe\">\n",
       "  <thead>\n",
       "    <tr style=\"text-align: right;\">\n",
       "      <th></th>\n",
       "      <th>sentiment</th>\n",
       "      <th>id</th>\n",
       "      <th>date</th>\n",
       "      <th>username</th>\n",
       "      <th>text</th>\n",
       "    </tr>\n",
       "  </thead>\n",
       "  <tbody>\n",
       "    <tr>\n",
       "      <th>0</th>\n",
       "      <td>0</td>\n",
       "      <td>1467810672</td>\n",
       "      <td>Mon Apr 06 22:19:49 PDT 2009</td>\n",
       "      <td>scotthamilton</td>\n",
       "      <td>is upset that he can't update his Facebook by ...</td>\n",
       "    </tr>\n",
       "    <tr>\n",
       "      <th>1</th>\n",
       "      <td>0</td>\n",
       "      <td>1467810917</td>\n",
       "      <td>Mon Apr 06 22:19:53 PDT 2009</td>\n",
       "      <td>mattycus</td>\n",
       "      <td>@Kenichan I dived many times for the ball. Man...</td>\n",
       "    </tr>\n",
       "    <tr>\n",
       "      <th>2</th>\n",
       "      <td>0</td>\n",
       "      <td>1467811184</td>\n",
       "      <td>Mon Apr 06 22:19:57 PDT 2009</td>\n",
       "      <td>ElleCTF</td>\n",
       "      <td>my whole body feels itchy and like its on fire</td>\n",
       "    </tr>\n",
       "    <tr>\n",
       "      <th>3</th>\n",
       "      <td>0</td>\n",
       "      <td>1467811193</td>\n",
       "      <td>Mon Apr 06 22:19:57 PDT 2009</td>\n",
       "      <td>Karoli</td>\n",
       "      <td>@nationwideclass no, it's not behaving at all....</td>\n",
       "    </tr>\n",
       "    <tr>\n",
       "      <th>4</th>\n",
       "      <td>0</td>\n",
       "      <td>1467811372</td>\n",
       "      <td>Mon Apr 06 22:20:00 PDT 2009</td>\n",
       "      <td>joy_wolf</td>\n",
       "      <td>@Kwesidei not the whole crew</td>\n",
       "    </tr>\n",
       "  </tbody>\n",
       "</table>\n",
       "</div>"
      ],
      "text/plain": [
       "   sentiment          id                          date       username  \\\n",
       "0          0  1467810672  Mon Apr 06 22:19:49 PDT 2009  scotthamilton   \n",
       "1          0  1467810917  Mon Apr 06 22:19:53 PDT 2009       mattycus   \n",
       "2          0  1467811184  Mon Apr 06 22:19:57 PDT 2009        ElleCTF   \n",
       "3          0  1467811193  Mon Apr 06 22:19:57 PDT 2009         Karoli   \n",
       "4          0  1467811372  Mon Apr 06 22:20:00 PDT 2009       joy_wolf   \n",
       "\n",
       "                                                text  \n",
       "0  is upset that he can't update his Facebook by ...  \n",
       "1  @Kenichan I dived many times for the ball. Man...  \n",
       "2    my whole body feels itchy and like its on fire   \n",
       "3  @nationwideclass no, it's not behaving at all....  \n",
       "4                      @Kwesidei not the whole crew   "
      ]
     },
     "execution_count": 16,
     "metadata": {},
     "output_type": "execute_result"
    }
   ],
   "source": [
    "df.head()"
   ]
  },
  {
   "cell_type": "code",
   "execution_count": 17,
   "id": "98e23d77",
   "metadata": {
    "execution": {
     "iopub.execute_input": "2023-02-06T12:14:50.575313Z",
     "iopub.status.busy": "2023-02-06T12:14:50.574521Z",
     "iopub.status.idle": "2023-02-06T12:14:50.579613Z",
     "shell.execute_reply": "2023-02-06T12:14:50.578722Z"
    },
    "papermill": {
     "duration": 0.018279,
     "end_time": "2023-02-06T12:14:50.581888",
     "exception": false,
     "start_time": "2023-02-06T12:14:50.563609",
     "status": "completed"
    },
    "tags": []
   },
   "outputs": [],
   "source": [
    "texts = df['text']"
   ]
  },
  {
   "cell_type": "code",
   "execution_count": 18,
   "id": "70dd912d",
   "metadata": {
    "execution": {
     "iopub.execute_input": "2023-02-06T12:14:50.607042Z",
     "iopub.status.busy": "2023-02-06T12:14:50.606239Z",
     "iopub.status.idle": "2023-02-06T12:14:51.764530Z",
     "shell.execute_reply": "2023-02-06T12:14:51.763496Z"
    },
    "papermill": {
     "duration": 1.175106,
     "end_time": "2023-02-06T12:14:51.767060",
     "exception": false,
     "start_time": "2023-02-06T12:14:50.591954",
     "status": "completed"
    },
    "tags": []
   },
   "outputs": [],
   "source": [
    "text_lens = [len(t.split()) for t in texts.values]\n",
    "len_mean = np.mean(text_lens)"
   ]
  },
  {
   "cell_type": "markdown",
   "id": "abb45eeb",
   "metadata": {
    "papermill": {
     "duration": 0.009604,
     "end_time": "2023-02-06T12:14:51.787085",
     "exception": false,
     "start_time": "2023-02-06T12:14:51.777481",
     "status": "completed"
    },
    "tags": []
   },
   "source": [
    "# EDA"
   ]
  },
  {
   "cell_type": "code",
   "execution_count": 19,
   "id": "c11c6758",
   "metadata": {
    "execution": {
     "iopub.execute_input": "2023-02-06T12:14:51.808934Z",
     "iopub.status.busy": "2023-02-06T12:14:51.808056Z",
     "iopub.status.idle": "2023-02-06T12:15:11.596080Z",
     "shell.execute_reply": "2023-02-06T12:15:11.595100Z"
    },
    "papermill": {
     "duration": 19.80537,
     "end_time": "2023-02-06T12:15:11.602347",
     "exception": false,
     "start_time": "2023-02-06T12:14:51.796977",
     "status": "completed"
    },
    "tags": []
   },
   "outputs": [
    {
     "data": {
      "image/png": "[encoded data removed]",
      "text/plain": [
       "<Figure size 720x576 with 2 Axes>"
      ]
     },
     "metadata": {
      "needs_background": "light"
     },
     "output_type": "display_data"
    }
   ],
   "source": [
    "fig, axes = plt.subplots(2,1, figsize=(10, 8))\n",
    "axes[0].set_title('Distribution of tweets')\n",
    "sns.barplot(text_lens, ax=axes[0])\n",
    "sns.histplot(text_lens,bins=100, kde=True, ax=axes[1],color='blue')\n",
    "axes[1].vlines(len_mean, 0, 5000, color = 'g')\n",
    "plt.annotate(\"mean\", xy=(len_mean, 5000), xytext=(len_mean-2, 5050),color='r')\n",
    "plt.show()"
   ]
  },
  {
   "cell_type": "code",
   "execution_count": 20,
   "id": "db5333d5",
   "metadata": {
    "execution": {
     "iopub.execute_input": "2023-02-06T12:15:11.624784Z",
     "iopub.status.busy": "2023-02-06T12:15:11.624142Z",
     "iopub.status.idle": "2023-02-06T12:15:11.654487Z",
     "shell.execute_reply": "2023-02-06T12:15:11.653224Z"
    },
    "papermill": {
     "duration": 0.043759,
     "end_time": "2023-02-06T12:15:11.656589",
     "exception": false,
     "start_time": "2023-02-06T12:15:11.612830",
     "status": "completed"
    },
    "tags": []
   },
   "outputs": [
    {
     "name": "stdout",
     "output_type": "stream",
     "text": [
      "1048572\n",
      "is upset that he can't update his Facebook by texting it... and might cry as a result  School today also. Blah!\n"
     ]
    }
   ],
   "source": [
    "stuff_to_be_removed = list(stopwords.words('english'))+list(punctuation)\n",
    "stemmer = LancasterStemmer()\n",
    "corpus = df['text'].tolist()\n",
    "print(len(corpus))\n",
    "print(corpus[0])"
   ]
  },
  {
   "cell_type": "code",
   "execution_count": 21,
   "id": "37bcc8cf",
   "metadata": {
    "execution": {
     "iopub.execute_input": "2023-02-06T12:15:11.678487Z",
     "iopub.status.busy": "2023-02-06T12:15:11.678128Z",
     "iopub.status.idle": "2023-02-06T12:16:55.272113Z",
     "shell.execute_reply": "2023-02-06T12:16:55.271118Z"
    },
    "papermill": {
     "duration": 103.607523,
     "end_time": "2023-02-06T12:16:55.274566",
     "exception": false,
     "start_time": "2023-02-06T12:15:11.667043",
     "status": "completed"
    },
    "tags": []
   },
   "outputs": [],
   "source": [
    "final_corpus = []\n",
    "final_corpus_joined = []\n",
    "for i in df.index:\n",
    "    text = re.sub('[^a-zA-Z]', ' ', df['text'][i])\n",
    "    text = text.lower()\n",
    "    text=re.sub(\"&lt;/?.*?&gt;\",\" &lt;&gt; \",text)\n",
    "    text=re.sub(\"(\\\\d|\\\\W)+\",\" \",text)\n",
    "    text = text.split()\n",
    "    lem = WordNetLemmatizer()\n",
    "    text = [lem.lemmatize(word) for word in text  if not word in stuff_to_be_removed] \n",
    "    text1 = \" \".join(text)\n",
    "    final_corpus.append(text)\n",
    "    final_corpus_joined.append(text1)"
   ]
  },
  {
   "cell_type": "code",
   "execution_count": 22,
   "id": "46e4a157",
   "metadata": {
    "execution": {
     "iopub.execute_input": "2023-02-06T12:16:55.296656Z",
     "iopub.status.busy": "2023-02-06T12:16:55.296365Z",
     "iopub.status.idle": "2023-02-06T12:16:55.605487Z",
     "shell.execute_reply": "2023-02-06T12:16:55.604297Z"
    },
    "papermill": {
     "duration": 0.322935,
     "end_time": "2023-02-06T12:16:55.608067",
     "exception": false,
     "start_time": "2023-02-06T12:16:55.285132",
     "status": "completed"
    },
    "tags": []
   },
   "outputs": [],
   "source": [
    "data_cleaned = pd.DataFrame()\n",
    "data_cleaned[\"text\"] = final_corpus_joined\n",
    "data_cleaned[\"sentiment\"] = df[\"sentiment\"].values"
   ]
  },
  {
   "cell_type": "code",
   "execution_count": 23,
   "id": "57915d91",
   "metadata": {
    "execution": {
     "iopub.execute_input": "2023-02-06T12:16:55.631006Z",
     "iopub.status.busy": "2023-02-06T12:16:55.630704Z",
     "iopub.status.idle": "2023-02-06T12:16:56.298917Z",
     "shell.execute_reply": "2023-02-06T12:16:56.297762Z"
    },
    "papermill": {
     "duration": 0.682584,
     "end_time": "2023-02-06T12:16:56.301822",
     "exception": false,
     "start_time": "2023-02-06T12:16:55.619238",
     "status": "completed"
    },
    "tags": []
   },
   "outputs": [
    {
     "data": {
      "text/html": [
       "<div>\n",
       "<style scoped>\n",
       "    .dataframe tbody tr th:only-of-type {\n",
       "        vertical-align: middle;\n",
       "    }\n",
       "\n",
       "    .dataframe tbody tr th {\n",
       "        vertical-align: top;\n",
       "    }\n",
       "\n",
       "    .dataframe thead th {\n",
       "        text-align: right;\n",
       "    }\n",
       "</style>\n",
       "<table border=\"1\" class=\"dataframe\">\n",
       "  <thead>\n",
       "    <tr style=\"text-align: right;\">\n",
       "      <th></th>\n",
       "      <th>text</th>\n",
       "      <th>sentiment</th>\n",
       "    </tr>\n",
       "  </thead>\n",
       "  <tbody>\n",
       "    <tr>\n",
       "      <th>0</th>\n",
       "      <td>[upset, update, facebook, texting, might, cry,...</td>\n",
       "      <td>0</td>\n",
       "    </tr>\n",
       "    <tr>\n",
       "      <th>1</th>\n",
       "      <td>[kenichan, dived, many, time, ball, managed, s...</td>\n",
       "      <td>0</td>\n",
       "    </tr>\n",
       "    <tr>\n",
       "      <th>2</th>\n",
       "      <td>[whole, body, feel, itchy, like, fire]</td>\n",
       "      <td>0</td>\n",
       "    </tr>\n",
       "    <tr>\n",
       "      <th>3</th>\n",
       "      <td>[nationwideclass, behaving, mad, see]</td>\n",
       "      <td>0</td>\n",
       "    </tr>\n",
       "    <tr>\n",
       "      <th>4</th>\n",
       "      <td>[kwesidei, whole, crew]</td>\n",
       "      <td>0</td>\n",
       "    </tr>\n",
       "  </tbody>\n",
       "</table>\n",
       "</div>"
      ],
      "text/plain": [
       "                                                text  sentiment\n",
       "0  [upset, update, facebook, texting, might, cry,...          0\n",
       "1  [kenichan, dived, many, time, ball, managed, s...          0\n",
       "2             [whole, body, feel, itchy, like, fire]          0\n",
       "3              [nationwideclass, behaving, mad, see]          0\n",
       "4                            [kwesidei, whole, crew]          0"
      ]
     },
     "execution_count": 23,
     "metadata": {},
     "output_type": "execute_result"
    }
   ],
   "source": [
    "data_eda = pd.DataFrame()\n",
    "data_eda['text'] = final_corpus\n",
    "data_eda['sentiment'] = df['sentiment'].values\n",
    "data_eda.head()"
   ]
  },
  {
   "cell_type": "code",
   "execution_count": 24,
   "id": "ceb44181",
   "metadata": {
    "execution": {
     "iopub.execute_input": "2023-02-06T12:16:56.323774Z",
     "iopub.status.busy": "2023-02-06T12:16:56.323497Z",
     "iopub.status.idle": "2023-02-06T12:16:56.389063Z",
     "shell.execute_reply": "2023-02-06T12:16:56.388018Z"
    },
    "papermill": {
     "duration": 0.079132,
     "end_time": "2023-02-06T12:16:56.391443",
     "exception": false,
     "start_time": "2023-02-06T12:16:56.312311",
     "status": "completed"
    },
    "tags": []
   },
   "outputs": [],
   "source": [
    "positive = data_eda[data_eda['sentiment'] == 4]\n",
    "positive_list = positive['text'].tolist()\n",
    "negative = data_eda[data_eda['sentiment'] == 0]\n",
    "negative_list = negative['text'].tolist()"
   ]
  },
  {
   "cell_type": "code",
   "execution_count": 25,
   "id": "11fcd83e",
   "metadata": {
    "execution": {
     "iopub.execute_input": "2023-02-06T12:16:56.413645Z",
     "iopub.status.busy": "2023-02-06T12:16:56.413351Z",
     "iopub.status.idle": "2023-02-06T12:16:57.187107Z",
     "shell.execute_reply": "2023-02-06T12:16:57.186107Z"
    },
    "papermill": {
     "duration": 0.787732,
     "end_time": "2023-02-06T12:16:57.189996",
     "exception": false,
     "start_time": "2023-02-06T12:16:56.402264",
     "status": "completed"
    },
    "tags": []
   },
   "outputs": [],
   "source": [
    "positive_all = \" \".join([word for sent in positive_list for word in sent ])\n",
    "negative_all = \" \".join([word for sent in negative_list for word in sent ])"
   ]
  },
  {
   "cell_type": "markdown",
   "id": "f543d027",
   "metadata": {
    "papermill": {
     "duration": 0.025588,
     "end_time": "2023-02-06T12:18:00.457938",
     "exception": false,
     "start_time": "2023-02-06T12:18:00.432350",
     "status": "completed"
    },
    "tags": []
   },
   "source": [
    "# TFIDF for sentiment analysis"
   ]
  },
  {
   "cell_type": "code",
   "execution_count": 28,
   "id": "f498e350",
   "metadata": {
    "execution": {
     "iopub.execute_input": "2023-02-06T12:18:00.512667Z",
     "iopub.status.busy": "2023-02-06T12:18:00.512264Z",
     "iopub.status.idle": "2023-02-06T12:18:11.517666Z",
     "shell.execute_reply": "2023-02-06T12:18:11.516488Z"
    },
    "papermill": {
     "duration": 11.036986,
     "end_time": "2023-02-06T12:18:11.520712",
     "exception": false,
     "start_time": "2023-02-06T12:18:00.483726",
     "status": "completed"
    },
    "tags": []
   },
   "outputs": [],
   "source": [
    "from sklearn.feature_extraction.text import TfidfVectorizer\n",
    "tfidf = TfidfVectorizer()\n",
    "xt = tfidf.fit_transform(data_cleaned['text'])\n",
    "y = data_cleaned['sentiment']"
   ]
  },
  {
   "cell_type": "markdown",
   "id": "2be9dd2b",
   "metadata": {
    "papermill": {
     "duration": 0.025124,
     "end_time": "2023-02-06T12:18:11.573168",
     "exception": false,
     "start_time": "2023-02-06T12:18:11.548044",
     "status": "completed"
    },
    "tags": []
   },
   "source": [
    "# Train Test Split"
   ]
  },
  {
   "cell_type": "code",
   "execution_count": 29,
   "id": "6ea27082",
   "metadata": {
    "execution": {
     "iopub.execute_input": "2023-02-06T12:18:11.625904Z",
     "iopub.status.busy": "2023-02-06T12:18:11.625551Z",
     "iopub.status.idle": "2023-02-06T12:18:12.018886Z",
     "shell.execute_reply": "2023-02-06T12:18:12.017834Z"
    },
    "papermill": {
     "duration": 0.423745,
     "end_time": "2023-02-06T12:18:12.022256",
     "exception": false,
     "start_time": "2023-02-06T12:18:11.598511",
     "status": "completed"
    },
    "tags": []
   },
   "outputs": [],
   "source": [
    "from sklearn.model_selection import train_test_split\n",
    "X_train, X_test, y_train, y_test = train_test_split(xt, \n",
    "                                                    y, \n",
    "                                                    test_size=0.33, \n",
    "                                                    random_state=42,\n",
    "                                                    stratify = y)"
   ]
  },
  {
   "cell_type": "markdown",
   "id": "83f928a5",
   "metadata": {
    "papermill": {
     "duration": 0.025544,
     "end_time": "2023-02-06T12:18:12.074662",
     "exception": false,
     "start_time": "2023-02-06T12:18:12.049118",
     "status": "completed"
    },
    "tags": []
   },
   "source": [
    "# LogisticRegression"
   ]
  },
  {
   "cell_type": "code",
   "execution_count": 30,
   "id": "f6f41013",
   "metadata": {
    "execution": {
     "iopub.execute_input": "2023-02-06T12:18:12.130086Z",
     "iopub.status.busy": "2023-02-06T12:18:12.128962Z",
     "iopub.status.idle": "2023-02-06T12:18:12.134438Z",
     "shell.execute_reply": "2023-02-06T12:18:12.133561Z"
    },
    "papermill": {
     "duration": 0.035901,
     "end_time": "2023-02-06T12:18:12.136681",
     "exception": false,
     "start_time": "2023-02-06T12:18:12.100780",
     "status": "completed"
    },
    "tags": []
   },
   "outputs": [],
   "source": [
    "from sklearn.metrics import accuracy_score,confusion_matrix,classification_report\n",
    "from sklearn.linear_model import LogisticRegression"
   ]
  },
  {
   "cell_type": "code",
   "execution_count": 31,
   "id": "eea425a6",
   "metadata": {
    "execution": {
     "iopub.execute_input": "2023-02-06T12:18:12.188662Z",
     "iopub.status.busy": "2023-02-06T12:18:12.187952Z",
     "iopub.status.idle": "2023-02-06T12:18:39.069142Z",
     "shell.execute_reply": "2023-02-06T12:18:39.067520Z"
    },
    "papermill": {
     "duration": 26.91224,
     "end_time": "2023-02-06T12:18:39.073705",
     "exception": false,
     "start_time": "2023-02-06T12:18:12.161465",
     "status": "completed"
    },
    "tags": []
   },
   "outputs": [
    {
     "data": {
      "text/plain": [
       "LogisticRegression()"
      ]
     },
     "execution_count": 31,
     "metadata": {},
     "output_type": "execute_result"
    }
   ],
   "source": [
    "lr = LogisticRegression()\n",
    "lr.fit(X_train,y_train)"
   ]
  },
  {
   "cell_type": "markdown",
   "id": "52aec81e",
   "metadata": {
    "papermill": {
     "duration": 0.024733,
     "end_time": "2023-02-06T12:18:39.149111",
     "exception": false,
     "start_time": "2023-02-06T12:18:39.124378",
     "status": "completed"
    },
    "tags": []
   },
   "source": [
    "# Accuracy Score: 85% "
   ]
  },
  {
   "cell_type": "code",
   "execution_count": 32,
   "id": "e6f1dc28",
   "metadata": {
    "execution": {
     "iopub.execute_input": "2023-02-06T12:18:39.200986Z",
     "iopub.status.busy": "2023-02-06T12:18:39.200638Z",
     "iopub.status.idle": "2023-02-06T12:18:39.297591Z",
     "shell.execute_reply": "2023-02-06T12:18:39.296389Z"
    },
    "papermill": {
     "duration": 0.126519,
     "end_time": "2023-02-06T12:18:39.300813",
     "exception": false,
     "start_time": "2023-02-06T12:18:39.174294",
     "status": "completed"
    },
    "tags": []
   },
   "outputs": [
    {
     "data": {
      "text/plain": [
       "85.67119735019779"
      ]
     },
     "execution_count": 32,
     "metadata": {},
     "output_type": "execute_result"
    }
   ],
   "source": [
    "y_train_pred = lr.predict(X_train)\n",
    "y_test_pred = lr.predict(X_test)\n",
    "accuracy_score(y_train,y_train_pred)*100"
   ]
  },
  {
   "cell_type": "code",
   "execution_count": null,
   "id": "c181741d",
   "metadata": {
    "papermill": {
     "duration": 0.025692,
     "end_time": "2023-02-06T12:18:39.353650",
     "exception": false,
     "start_time": "2023-02-06T12:18:39.327958",
     "status": "completed"
    },
    "tags": []
   },
   "outputs": [],
   "source": []
  }
 ],
 "metadata": {
  "kernelspec": {
   "display_name": "Python 3 (ipykernel)",
   "language": "python",
   "name": "python3"
  },
  "language_info": {
   "codemirror_mode": {
    "name": "ipython",
    "version": 3
   },
   "file_extension": ".py",
   "mimetype": "text/x-python",
   "name": "python",
   "nbconvert_exporter": "python",
   "pygments_lexer": "ipython3",
   "version": "3.10.9"
  },
  "papermill": {
   "default_parameters": {},
   "duration": 250.472894,
   "end_time": "2023-02-06T12:18:41.002804",
   "environment_variables": {},
   "exception": null,
   "input_path": "__notebook__.ipynb",
   "output_path": "__notebook__.ipynb",
   "parameters": {},
   "start_time": "2023-02-06T12:14:30.529910",
   "version": "2.3.4"
  }
 },
 "nbformat": 4,
 "nbformat_minor": 5
}
